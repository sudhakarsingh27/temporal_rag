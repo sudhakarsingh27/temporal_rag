{
 "cells": [
  {
   "cell_type": "code",
   "execution_count": 20,
   "id": "959fa19e-9124-4027-8b75-c5d72749da73",
   "metadata": {},
   "outputs": [
    {
     "name": "stdout",
     "output_type": "stream",
     "text": [
      "WARNING: parsing_instruction is deprecated. Use complemental_formatting_instruction or content_guideline_instruction instead.\n",
      "Started parsing the file under job_id e7b439a0-aa30-414b-a8d7-3bcb5ca325ba\n"
     ]
    }
   ],
   "source": [
    "import PyPDF2\n",
    "import llama_parse\n",
    "from datetime import datetime\n",
    "from llama_parse import LlamaParse\n",
    "from all_imports import *\n",
    "import nest_asyncio\n",
    "\n",
    "\n",
    "nest_asyncio.apply()\n",
    "\n",
    "parser = LlamaParse(\n",
    "    api_key=os.environ[\"LLAMA_INDEX_API_KEY\"],  # can also be set in your env as LLAMA_CLOUD_API_KEY\n",
    "    result_type=\"text\",  # \"markdown\" and \"text\" are available,\n",
    "    chunk_size=\"paragraph\",\n",
    "    num_workers=4,  # if multiple files passed, split in `num_workers` API calls\n",
    "    verbose=True,\n",
    ")\n",
    "\n",
    "# sync\n",
    "documents = parser.load_data(\"beige_book_pdfs/BeigeBook_20240117.pdf\")\n",
    "\n",
    "# # Extract text from the PDF\n",
    "# def extract_text_from_pdf(pdf_path):\n",
    "#     text = \"\"\n",
    "#     with open(pdf_path, 'rb') as file:\n",
    "#         reader = PyPDF2.PdfReader(file)\n",
    "#         for page in reader.pages:\n",
    "#             text += page.extract_text()\n",
    "#     return text\n",
    "\n",
    "# # Chunk the text using LlamaParse\n",
    "# def chunk_text_with_llamaparse(text):\n",
    "#     # Initialize LlamaParse\n",
    "#     parser = llama_parse.Parser()\n",
    "\n",
    "#     # Chunk the text into meaningful sections (e.g., paragraphs)\n",
    "#     chunks = parser.chunk(text, chunk_size=\"paragraph\")  # You can adjust chunk_size as needed\n",
    "#     return chunks\n",
    "\n",
    "# # Main function\n",
    "# def main(pdf_path):\n",
    "#     # Extract text from the PDF\n",
    "#     text = extract_text_from_pdf(pdf_path)\n",
    "\n",
    "#     # Chunk the text using LlamaParse\n",
    "#     chunks = chunk_text_with_llamaparse(text)\n",
    "\n",
    "#     return chunks\n",
    "\n",
    "# # Run the script\n",
    "# if __name__ == \"__main__\":\n",
    "#     pdf_path = \"beige_book_pdfs/BeigeBook_20240117.pdf\"  # Path to the PDF file\n",
    "#     chunks = main(pdf_path)\n",
    "#     import pdb; pdb.set_trace()"
   ]
  },
  {
   "cell_type": "code",
   "execution_count": 23,
   "id": "04171e5d-a65d-47e6-98ea-5a65908efc34",
   "metadata": {},
   "outputs": [
    {
     "data": {
      "text/plain": [
       "Document(id_='8bd6e5f8-b100-4178-8f3b-34d2e3f8fd9a', embedding=None, metadata={}, excluded_embed_metadata_keys=[], excluded_llm_metadata_keys=[], relationships={}, metadata_template='{key}: {value}', metadata_separator='\\n', text_resource=MediaResource(embeddings=None, data=None, text='                                                                                                     National Summary  3\\n\\nCleveland\\nDistrict business activity edged up. Employment stabilized, and wage increases returned to more\\ntypical levels. Cost and price pressures changed little after easing through much of 2023, though\\nupward price pressure persisted in certain industries. Retailers reported strong sales for dis-\\ncounted items, and consumers became more reliant on “buy now, pay later” payment options.\\n\\nRichmond\\nThe regional economy grew mildly in recent weeks as consumer spending was flat to increasing\\nmodestly. Nonfinancial services demand and commercial real estate activity was little changed.\\nMeanwhile, trade and trucking volumes were down modestly and residential housing sales and\\nmortgage lending softened. Employment and wages rose moderately and inflation moderated but\\nremained elevated.\\n\\nAtlanta\\nEconomic activity grew at a slow pace. Labor markets cooled further, and wage pressures eased.\\nSome nonlabor input costs moderated. Retail sales were mixed. Travel activity remained strong,\\nbut spending at hotels declined. Home sales slowed, on balance. Banking conditions were mixed.\\nTransportation activity was sluggish. Energy demand was robust.\\n\\nChicago\\nEconomic activity in the Seventh District was up modestly. Employment increased moderately; non-\\nbusiness contacts saw a modest increase in activity; consumer spending was up slightly; con-\\nstruction and real estate and business spending were flat; and manufacturing decreased mod-\\nestly. Prices and wages rose moderately, while financial conditions loosened modestly. Net farm\\nincomes were above average in 2023.\\n\\nSt. Louis\\nEconomic activity has remained unchanged since our previous report. Labor markets eased, and\\nthe rate of price increases for many firms has slowed over the past few months. Travel and hospi-\\ntality firms reported strong leisure travel growth during the holiday season and an optimistic out-\\nlook for the upcoming year. Rental prices were flat and residential inventory rose slightly.\\n\\nMinneapolis\\nDistrict economic activity was down slightly. Hiring was positive but job postings declined. Wage\\npressures continued to moderate, approaching pre-pandemic conditions. Price increases were\\nmild, with most firms reporting no change in input or final prices. Holiday sales and traffic were\\ngenerally strong, but construction and manufacturing activity decreased.', path=None, url=None, mimetype=None), image_resource=None, audio_resource=None, video_resource=None, text_template='{metadata_str}\\n\\n{content}')"
      ]
     },
     "execution_count": 23,
     "metadata": {},
     "output_type": "execute_result"
    }
   ],
   "source": [
    "documents[6]"
   ]
  },
  {
   "cell_type": "code",
   "execution_count": null,
   "id": "d3695bf0-6195-4130-82d8-bec7966c8a39",
   "metadata": {},
   "outputs": [],
   "source": []
  }
 ],
 "metadata": {
  "kernelspec": {
   "display_name": "Python 3 (ipykernel)",
   "language": "python",
   "name": "python3"
  },
  "language_info": {
   "codemirror_mode": {
    "name": "ipython",
    "version": 3
   },
   "file_extension": ".py",
   "mimetype": "text/x-python",
   "name": "python",
   "nbconvert_exporter": "python",
   "pygments_lexer": "ipython3",
   "version": "3.10.12"
  }
 },
 "nbformat": 4,
 "nbformat_minor": 5
}
